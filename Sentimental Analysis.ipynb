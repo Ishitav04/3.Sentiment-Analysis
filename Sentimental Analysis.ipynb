{
 "cells": [
  {
   "cell_type": "markdown",
   "id": "c56d624d",
   "metadata": {},
   "source": [
    "# Sentiment Analysis"
   ]
  },
  {
   "cell_type": "markdown",
   "id": "a48a38b2",
   "metadata": {},
   "source": [
    "## Import Libraries And Load Datasets"
   ]
  },
  {
   "cell_type": "code",
   "execution_count": 2,
   "id": "8ca9064e",
   "metadata": {},
   "outputs": [
    {
     "name": "stdout",
     "output_type": "stream",
     "text": [
      "Requirement already satisfied: nltk in c:\\programdata\\anaconda3\\lib\\site-packages (3.8.1)\n",
      "Requirement already satisfied: click in c:\\programdata\\anaconda3\\lib\\site-packages (from nltk) (8.0.4)\n",
      "Requirement already satisfied: joblib in c:\\programdata\\anaconda3\\lib\\site-packages (from nltk) (1.2.0)\n",
      "Requirement already satisfied: regex>=2021.8.3 in c:\\programdata\\anaconda3\\lib\\site-packages (from nltk) (2022.7.9)\n",
      "Requirement already satisfied: tqdm in c:\\programdata\\anaconda3\\lib\\site-packages (from nltk) (4.65.0)\n",
      "Requirement already satisfied: colorama in c:\\programdata\\anaconda3\\lib\\site-packages (from click->nltk) (0.4.6)\n",
      "Note: you may need to restart the kernel to use updated packages.\n"
     ]
    }
   ],
   "source": [
    "pip install nltk"
   ]
  },
  {
   "cell_type": "code",
   "execution_count": 3,
   "id": "182e25de",
   "metadata": {},
   "outputs": [],
   "source": [
    "import pandas as pd\n",
    "import numpy as np\n",
    "import matplotlib.pyplot as plt\n",
    "import seaborn as sns\n",
    "from sklearn.model_selection import train_test_split\n",
    "from sklearn.feature_extraction.text import TfidfVectorizer\n",
    "from sklearn.naive_bayes import MultinomialNB\n",
    "from sklearn.svm import SVC\n",
    "from sklearn.metrics import accuracy_score, classification_report\n",
    "from nltk.stem import SnowballStemmer\n",
    "from string import punctuation\n",
    "from tensorflow.keras.preprocessing.text import Tokenizer\n",
    "from tensorflow.keras.preprocessing.sequence import pad_sequences\n",
    "from tensorflow.keras.models import Sequential\n",
    "from tensorflow.keras.layers import Embedding, LSTM, Dense\n",
    "import nltk\n",
    "from nltk.corpus import stopwords\n",
    "from nltk.tokenize import word_tokenize\n",
    "from nltk.stem import WordNetLemmatizer\n",
    "import re\n",
    "import string\n",
    "from sklearn.naive_bayes import MultinomialNB\n",
    "from sklearn.metrics import accuracy_score, precision_score, recall_score, f1_score\n",
    "from sklearn.feature_extraction.text import TfidfVectorizer\n",
    "from sklearn.metrics import confusion_matrix, precision_recall_curve, roc_auc_score"
   ]
  },
  {
   "cell_type": "code",
   "execution_count": 4,
   "id": "010df73c",
   "metadata": {},
   "outputs": [],
   "source": [
    "# Load the Sentiment Analysis dataset into a DataFrame\n",
    "sentiment_df = pd.read_csv('training.1600000.processed.noemoticon.csv', encoding='ISO-8859-1')\n"
   ]
  },
  {
   "cell_type": "markdown",
   "id": "ccf3f009",
   "metadata": {},
   "source": [
    "## Data Exploration\n",
    "Explored the dataset to understand its structure, feature distribution, and potential insights.\n",
    "\n",
    "Identify key variables such as text content and sentiment labels."
   ]
  },
  {
   "cell_type": "code",
   "execution_count": 5,
   "id": "4d4bd9d5",
   "metadata": {},
   "outputs": [
    {
     "name": "stdout",
     "output_type": "stream",
     "text": [
      "Dataset Structure:\n",
      "   polarity of tweet   id of the tweet             date of the tweet  \\\n",
      "0                   0       1467810672  Mon Apr 06 22:19:49 PDT 2009   \n",
      "1                   0       1467810917  Mon Apr 06 22:19:53 PDT 2009   \n",
      "2                   0       1467811184  Mon Apr 06 22:19:57 PDT 2009   \n",
      "3                   0       1467811193  Mon Apr 06 22:19:57 PDT 2009   \n",
      "4                   0       1467811372  Mon Apr 06 22:20:00 PDT 2009   \n",
      "\n",
      "      query           user                                 text of the tweet   \n",
      "0  NO_QUERY  scotthamilton  is upset that he can't update his Facebook by ...  \n",
      "1  NO_QUERY       mattycus  @Kenichan I dived many times for the ball. Man...  \n",
      "2  NO_QUERY        ElleCTF    my whole body feels itchy and like its on fire   \n",
      "3  NO_QUERY         Karoli  @nationwideclass no, it's not behaving at all....  \n",
      "4  NO_QUERY       joy_wolf                      @Kwesidei not the whole crew   \n"
     ]
    }
   ],
   "source": [
    "# Display the first few rows of the DataFrame to understand its structure\n",
    "print(\"Dataset Structure:\")\n",
    "print(sentiment_df.head())\n"
   ]
  },
  {
   "cell_type": "code",
   "execution_count": 6,
   "id": "d775b218",
   "metadata": {},
   "outputs": [
    {
     "name": "stdout",
     "output_type": "stream",
     "text": [
      "\n",
      "Dataset Information:\n",
      "<class 'pandas.core.frame.DataFrame'>\n",
      "RangeIndex: 1048572 entries, 0 to 1048571\n",
      "Data columns (total 6 columns):\n",
      " #   Column              Non-Null Count    Dtype \n",
      "---  ------              --------------    ----- \n",
      " 0   polarity of tweet   1048572 non-null  int64 \n",
      " 1   id of the tweet     1048572 non-null  int64 \n",
      " 2   date of the tweet   1048572 non-null  object\n",
      " 3   query               1048572 non-null  object\n",
      " 4   user                1048572 non-null  object\n",
      " 5   text of the tweet   1048572 non-null  object\n",
      "dtypes: int64(2), object(4)\n",
      "memory usage: 48.0+ MB\n",
      "None\n"
     ]
    }
   ],
   "source": [
    "# Get information about the dataset such as column names, data types, and non-null counts\n",
    "print(\"\\nDataset Information:\")\n",
    "print(sentiment_df.info())\n"
   ]
  },
  {
   "cell_type": "code",
   "execution_count": 7,
   "id": "76abb8b3",
   "metadata": {},
   "outputs": [
    {
     "data": {
      "text/html": [
       "<div>\n",
       "<style scoped>\n",
       "    .dataframe tbody tr th:only-of-type {\n",
       "        vertical-align: middle;\n",
       "    }\n",
       "\n",
       "    .dataframe tbody tr th {\n",
       "        vertical-align: top;\n",
       "    }\n",
       "\n",
       "    .dataframe thead th {\n",
       "        text-align: right;\n",
       "    }\n",
       "</style>\n",
       "<table border=\"1\" class=\"dataframe\">\n",
       "  <thead>\n",
       "    <tr style=\"text-align: right;\">\n",
       "      <th></th>\n",
       "      <th>polarity of tweet</th>\n",
       "      <th>id of the tweet</th>\n",
       "    </tr>\n",
       "  </thead>\n",
       "  <tbody>\n",
       "    <tr>\n",
       "      <th>count</th>\n",
       "      <td>1.048572e+06</td>\n",
       "      <td>1.048572e+06</td>\n",
       "    </tr>\n",
       "    <tr>\n",
       "      <th>mean</th>\n",
       "      <td>9.482458e-01</td>\n",
       "      <td>1.976168e+09</td>\n",
       "    </tr>\n",
       "    <tr>\n",
       "      <th>std</th>\n",
       "      <td>1.701122e+00</td>\n",
       "      <td>2.300567e+08</td>\n",
       "    </tr>\n",
       "    <tr>\n",
       "      <th>min</th>\n",
       "      <td>0.000000e+00</td>\n",
       "      <td>1.467811e+09</td>\n",
       "    </tr>\n",
       "    <tr>\n",
       "      <th>25%</th>\n",
       "      <td>0.000000e+00</td>\n",
       "      <td>1.824526e+09</td>\n",
       "    </tr>\n",
       "    <tr>\n",
       "      <th>50%</th>\n",
       "      <td>0.000000e+00</td>\n",
       "      <td>1.990870e+09</td>\n",
       "    </tr>\n",
       "    <tr>\n",
       "      <th>75%</th>\n",
       "      <td>0.000000e+00</td>\n",
       "      <td>2.198903e+09</td>\n",
       "    </tr>\n",
       "    <tr>\n",
       "      <th>max</th>\n",
       "      <td>4.000000e+00</td>\n",
       "      <td>2.329206e+09</td>\n",
       "    </tr>\n",
       "  </tbody>\n",
       "</table>\n",
       "</div>"
      ],
      "text/plain": [
       "       polarity of tweet   id of the tweet\n",
       "count        1.048572e+06     1.048572e+06\n",
       "mean         9.482458e-01     1.976168e+09\n",
       "std          1.701122e+00     2.300567e+08\n",
       "min          0.000000e+00     1.467811e+09\n",
       "25%          0.000000e+00     1.824526e+09\n",
       "50%          0.000000e+00     1.990870e+09\n",
       "75%          0.000000e+00     2.198903e+09\n",
       "max          4.000000e+00     2.329206e+09"
      ]
     },
     "execution_count": 7,
     "metadata": {},
     "output_type": "execute_result"
    }
   ],
   "source": [
    "sentiment_df.describe()"
   ]
  },
  {
   "cell_type": "code",
   "execution_count": 8,
   "id": "7911809e",
   "metadata": {},
   "outputs": [
    {
     "name": "stdout",
     "output_type": "stream",
     "text": [
      "\n",
      "Dataset Size:\n",
      "Number of Rows: 1048572\n",
      "Number of Columns: 6\n"
     ]
    }
   ],
   "source": [
    "# Check the size of the dataset (number of rows and columns)\n",
    "num_rows, num_columns = sentiment_df.shape\n",
    "print(\"\\nDataset Size:\")\n",
    "print(\"Number of Rows:\", num_rows)\n",
    "print(\"Number of Columns:\", num_columns)\n"
   ]
  },
  {
   "cell_type": "code",
   "execution_count": 9,
   "id": "d27721b1",
   "metadata": {},
   "outputs": [
    {
     "data": {
      "text/plain": [
       "polarity of tweet     0\n",
       "id of the tweet       0\n",
       "date of the tweet     0\n",
       "query                 0\n",
       "user                  0\n",
       "text of the tweet     0\n",
       "dtype: int64"
      ]
     },
     "execution_count": 9,
     "metadata": {},
     "output_type": "execute_result"
    }
   ],
   "source": [
    "sentiment_df.isnull().sum()"
   ]
  },
  {
   "cell_type": "code",
   "execution_count": 10,
   "id": "cdf78116",
   "metadata": {},
   "outputs": [
    {
     "name": "stdout",
     "output_type": "stream",
     "text": [
      "\n",
      "Unique Sentiment Labels:\n",
      "[0 4]\n",
      "\n",
      "Unique Text Content:\n",
      "[\"is upset that he can't update his Facebook by texting it... and might cry as a result  School today also. Blah!\"\n",
      " '@Kenichan I dived many times for the ball. Managed to save 50%  The rest go out of bounds'\n",
      " 'my whole body feels itchy and like its on fire ' ...\n",
      " '@ShaDeLa same here  say it like from the Terminiator movies. comes off like just 3 words. :-D'\n",
      " '@DestinyHope92 im great thaanks  wbuu?'\n",
      " 'cant wait til her date this weekend ']\n"
     ]
    }
   ],
   "source": [
    "# Identify key variables such as text content and sentiment labels\n",
    "text_column = 'text of the tweet '  # Assuming the column containing the text content is named 'text'\n",
    "sentiment_label_column = 'polarity of tweet '  # Assuming the column containing the sentiment labels is named 'sentiment'\n",
    "\n",
    "# Print unique values of sentiment labels to understand the sentiment classes/categories\n",
    "print(\"\\nUnique Sentiment Labels:\")\n",
    "print(sentiment_df[sentiment_label_column].unique())\n",
    "\n",
    "# Print unique values of text content to understand the data\n",
    "print(\"\\nUnique Text Content:\")\n",
    "print(sentiment_df[text_column].unique())"
   ]
  },
  {
   "cell_type": "markdown",
   "id": "0b5fe768",
   "metadata": {},
   "source": [
    "#### Changing the Name of the Columns for better handeling and Understanding"
   ]
  },
  {
   "cell_type": "code",
   "execution_count": 11,
   "id": "0a320b13",
   "metadata": {},
   "outputs": [
    {
     "name": "stdout",
     "output_type": "stream",
     "text": [
      "Index(['polarity of tweet ', 'id of the tweet', 'date of the tweet', 'query',\n",
      "       'user', 'text of the tweet '],\n",
      "      dtype='object')\n"
     ]
    }
   ],
   "source": [
    "print(sentiment_df.columns)\n"
   ]
  },
  {
   "cell_type": "code",
   "execution_count": 12,
   "id": "a00f4615",
   "metadata": {},
   "outputs": [
    {
     "name": "stdout",
     "output_type": "stream",
     "text": [
      "   sentiment          id                          date     query  \\\n",
      "0          0  1467810672  Mon Apr 06 22:19:49 PDT 2009  NO_QUERY   \n",
      "1          0  1467810917  Mon Apr 06 22:19:53 PDT 2009  NO_QUERY   \n",
      "2          0  1467811184  Mon Apr 06 22:19:57 PDT 2009  NO_QUERY   \n",
      "3          0  1467811193  Mon Apr 06 22:19:57 PDT 2009  NO_QUERY   \n",
      "4          0  1467811372  Mon Apr 06 22:20:00 PDT 2009  NO_QUERY   \n",
      "\n",
      "            user                                               text  \n",
      "0  scotthamilton  is upset that he can't update his Facebook by ...  \n",
      "1       mattycus  @Kenichan I dived many times for the ball. Man...  \n",
      "2        ElleCTF    my whole body feels itchy and like its on fire   \n",
      "3         Karoli  @nationwideclass no, it's not behaving at all....  \n",
      "4       joy_wolf                      @Kwesidei not the whole crew   \n"
     ]
    }
   ],
   "source": [
    "# Assign new column names\n",
    "new_column_names = ['sentiment', 'id', 'date', 'query', 'user', 'text']\n",
    "\n",
    "# Set the new column names\n",
    "sentiment_df.columns = new_column_names\n",
    "\n",
    "# Display the DataFrame with the new column names\n",
    "print(sentiment_df.head())"
   ]
  },
  {
   "cell_type": "code",
   "execution_count": 13,
   "id": "85b14fec",
   "metadata": {},
   "outputs": [
    {
     "name": "stdout",
     "output_type": "stream",
     "text": [
      "Index(['sentiment', 'id', 'date', 'query', 'user', 'text'], dtype='object')\n"
     ]
    }
   ],
   "source": [
    "print(sentiment_df.columns)"
   ]
  },
  {
   "cell_type": "markdown",
   "id": "9f0550dd",
   "metadata": {},
   "source": [
    "#### Plotting the distribution of sentiment labels from the DataFrame using a bar plot.\n"
   ]
  },
  {
   "cell_type": "code",
   "execution_count": 14,
   "id": "a7f34351",
   "metadata": {},
   "outputs": [
    {
     "data": {
      "image/png": "[encoded data removed]",
      "text/plain": [
       "<Figure size 800x600 with 1 Axes>"
      ]
     },
     "metadata": {},
     "output_type": "display_data"
    }
   ],
   "source": [
    "# Set the size of the plot\n",
    "plt.figure(figsize=(8, 6))\n",
    "\n",
    "# Plot the distribution of sentiment labels\n",
    "sns.countplot(x='sentiment', data=sentiment_df)\n",
    "\n",
    "# Set plot title and labels\n",
    "plt.title('Distribution of Sentiment Labels')\n",
    "plt.xlabel('Sentiment Label')\n",
    "plt.ylabel('Count')\n",
    "\n",
    "# Show plot\n",
    "plt.show()"
   ]
  },
  {
   "cell_type": "code",
   "execution_count": 15,
   "id": "f371ad8c",
   "metadata": {},
   "outputs": [],
   "source": [
    "#Dropping the duplicate rows \n",
    "sentiment_df = sentiment_df.drop_duplicates('text')"
   ]
  },
  {
   "cell_type": "markdown",
   "id": "22c72631",
   "metadata": {},
   "source": [
    "### EDA \n",
    "- Conduct exploratory data analysis to gain insights into the distribution of sentiment labels.\n",
    "- Visualize the distribution using histograms or pie charts to understand the balance of sentiment classes."
   ]
  },
  {
   "cell_type": "code",
   "execution_count": 16,
   "id": "6ac5a709",
   "metadata": {},
   "outputs": [
    {
     "data": {
      "image/png": "[encoded data removed]",
      "text/plain": [
       "<Figure size 800x600 with 1 Axes>"
      ]
     },
     "metadata": {},
     "output_type": "display_data"
    },
    {
     "name": "stdout",
     "output_type": "stream",
     "text": [
      "----------------------------------------------------------------------\n"
     ]
    },
    {
     "data": {
      "image/png": "[encoded data removed]",
      "text/plain": [
       "<Figure size 800x800 with 1 Axes>"
      ]
     },
     "metadata": {},
     "output_type": "display_data"
    }
   ],
   "source": [
    "# Count the occurrences of each sentiment label\n",
    "sentiment_counts = sentiment_df['sentiment'].value_counts()\n",
    "\n",
    "# Plot the distribution of sentiment labels using a bar plot\n",
    "plt.figure(figsize=(8, 6))\n",
    "sentiment_counts.plot(kind='bar', color='skyblue')\n",
    "plt.title('Distribution of Sentiment Labels')\n",
    "plt.xlabel('Sentiment Label')\n",
    "plt.ylabel('Count')\n",
    "plt.xticks(rotation=0)\n",
    "plt.grid(axis='y', linestyle='--', alpha=0.7)\n",
    "plt.show()\n",
    "\n",
    "print('----------------------------------------------------------------------')\n",
    "# Plot the distribution of sentiment labels using a pie chart\n",
    "plt.figure(figsize=(8, 8))\n",
    "sentiment_counts.plot(kind='pie', autopct='%1.1f%%', colors=['skyblue', 'lightgreen'], startangle=140)\n",
    "plt.title('Distribution of Sentiment Labels')\n",
    "plt.ylabel('')\n",
    "plt.show()"
   ]
  },
  {
   "cell_type": "markdown",
   "id": "f5c761db",
   "metadata": {},
   "source": [
    "### Data Preprocessing"
   ]
  },
  {
   "cell_type": "markdown",
   "id": "67501d36",
   "metadata": {},
   "source": [
    "- initialized a WordNet Lemmatizer and define a list of punctuation characters to be removed.\n",
    "- created a text preprocessing function, preprocess_text, which performs various tasks such as lowercasing, removing special characters and numbers, tokenizing, removing stop words, removing punctuation, and lemmatization.\n",
    "- The function prepares text for natural language processing tasks by standardizing and cleaning it."
   ]
  },
  {
   "cell_type": "code",
   "execution_count": 4,
   "id": "5b4c8248",
   "metadata": {},
   "outputs": [],
   "source": [
    "train_df = pd.read_csv('train.csv', encoding='ISO-8859-1')"
   ]
  },
  {
   "cell_type": "code",
   "execution_count": 19,
   "id": "57ef9ed4",
   "metadata": {},
   "outputs": [
    {
     "data": {
      "text/html": [
       "<div>\n",
       "<style scoped>\n",
       "    .dataframe tbody tr th:only-of-type {\n",
       "        vertical-align: middle;\n",
       "    }\n",
       "\n",
       "    .dataframe tbody tr th {\n",
       "        vertical-align: top;\n",
       "    }\n",
       "\n",
       "    .dataframe thead th {\n",
       "        text-align: right;\n",
       "    }\n",
       "</style>\n",
       "<table border=\"1\" class=\"dataframe\">\n",
       "  <thead>\n",
       "    <tr style=\"text-align: right;\">\n",
       "      <th></th>\n",
       "      <th>textID</th>\n",
       "      <th>text</th>\n",
       "      <th>selected_text</th>\n",
       "      <th>sentiment</th>\n",
       "      <th>Time of Tweet</th>\n",
       "      <th>Age of User</th>\n",
       "      <th>Country</th>\n",
       "      <th>Population -2020</th>\n",
       "      <th>Land Area (Km²)</th>\n",
       "      <th>Density (P/Km²)</th>\n",
       "    </tr>\n",
       "  </thead>\n",
       "  <tbody>\n",
       "    <tr>\n",
       "      <th>0</th>\n",
       "      <td>cb774db0d1</td>\n",
       "      <td>I`d have responded, if I were going</td>\n",
       "      <td>I`d have responded, if I were going</td>\n",
       "      <td>neutral</td>\n",
       "      <td>morning</td>\n",
       "      <td>0-20</td>\n",
       "      <td>Afghanistan</td>\n",
       "      <td>38928346</td>\n",
       "      <td>652860.0</td>\n",
       "      <td>60</td>\n",
       "    </tr>\n",
       "    <tr>\n",
       "      <th>1</th>\n",
       "      <td>549e992a42</td>\n",
       "      <td>Sooo SAD I will miss you here in San Diego!!!</td>\n",
       "      <td>Sooo SAD</td>\n",
       "      <td>negative</td>\n",
       "      <td>noon</td>\n",
       "      <td>21-30</td>\n",
       "      <td>Albania</td>\n",
       "      <td>2877797</td>\n",
       "      <td>27400.0</td>\n",
       "      <td>105</td>\n",
       "    </tr>\n",
       "    <tr>\n",
       "      <th>2</th>\n",
       "      <td>088c60f138</td>\n",
       "      <td>my boss is bullying me...</td>\n",
       "      <td>bullying me</td>\n",
       "      <td>negative</td>\n",
       "      <td>night</td>\n",
       "      <td>31-45</td>\n",
       "      <td>Algeria</td>\n",
       "      <td>43851044</td>\n",
       "      <td>2381740.0</td>\n",
       "      <td>18</td>\n",
       "    </tr>\n",
       "    <tr>\n",
       "      <th>3</th>\n",
       "      <td>9642c003ef</td>\n",
       "      <td>what interview! leave me alone</td>\n",
       "      <td>leave me alone</td>\n",
       "      <td>negative</td>\n",
       "      <td>morning</td>\n",
       "      <td>46-60</td>\n",
       "      <td>Andorra</td>\n",
       "      <td>77265</td>\n",
       "      <td>470.0</td>\n",
       "      <td>164</td>\n",
       "    </tr>\n",
       "    <tr>\n",
       "      <th>4</th>\n",
       "      <td>358bd9e861</td>\n",
       "      <td>Sons of ****, why couldn`t they put them on t...</td>\n",
       "      <td>Sons of ****,</td>\n",
       "      <td>negative</td>\n",
       "      <td>noon</td>\n",
       "      <td>60-70</td>\n",
       "      <td>Angola</td>\n",
       "      <td>32866272</td>\n",
       "      <td>1246700.0</td>\n",
       "      <td>26</td>\n",
       "    </tr>\n",
       "  </tbody>\n",
       "</table>\n",
       "</div>"
      ],
      "text/plain": [
       "       textID                                               text  \\\n",
       "0  cb774db0d1                I`d have responded, if I were going   \n",
       "1  549e992a42      Sooo SAD I will miss you here in San Diego!!!   \n",
       "2  088c60f138                          my boss is bullying me...   \n",
       "3  9642c003ef                     what interview! leave me alone   \n",
       "4  358bd9e861   Sons of ****, why couldn`t they put them on t...   \n",
       "\n",
       "                         selected_text sentiment Time of Tweet Age of User  \\\n",
       "0  I`d have responded, if I were going   neutral       morning        0-20   \n",
       "1                             Sooo SAD  negative          noon       21-30   \n",
       "2                          bullying me  negative         night       31-45   \n",
       "3                       leave me alone  negative       morning       46-60   \n",
       "4                        Sons of ****,  negative          noon       60-70   \n",
       "\n",
       "       Country  Population -2020  Land Area (Km²)  Density (P/Km²)  \n",
       "0  Afghanistan          38928346         652860.0               60  \n",
       "1      Albania           2877797          27400.0              105  \n",
       "2      Algeria          43851044        2381740.0               18  \n",
       "3      Andorra             77265            470.0              164  \n",
       "4       Angola          32866272        1246700.0               26  "
      ]
     },
     "execution_count": 19,
     "metadata": {},
     "output_type": "execute_result"
    }
   ],
   "source": [
    "train_df.head()"
   ]
  },
  {
   "cell_type": "code",
   "execution_count": 20,
   "id": "f3008271",
   "metadata": {},
   "outputs": [
    {
     "name": "stderr",
     "output_type": "stream",
     "text": [
      "[nltk_data] Downloading package stopwords to\n",
      "[nltk_data]     C:\\Users\\Dell\\AppData\\Roaming\\nltk_data...\n",
      "[nltk_data]   Package stopwords is already up-to-date!\n",
      "[nltk_data] Downloading package punkt to\n",
      "[nltk_data]     C:\\Users\\Dell\\AppData\\Roaming\\nltk_data...\n",
      "[nltk_data]   Package punkt is already up-to-date!\n",
      "[nltk_data] Downloading package wordnet to\n",
      "[nltk_data]     C:\\Users\\Dell\\AppData\\Roaming\\nltk_data...\n",
      "[nltk_data]   Package wordnet is already up-to-date!\n"
     ]
    },
    {
     "data": {
      "text/plain": [
       "True"
      ]
     },
     "execution_count": 20,
     "metadata": {},
     "output_type": "execute_result"
    }
   ],
   "source": [
    "# Download NLTK resources\n",
    "nltk.download('stopwords')\n",
    "nltk.download('punkt')\n",
    "nltk.download('wordnet')"
   ]
  },
  {
   "cell_type": "code",
   "execution_count": 21,
   "id": "98a3b6d4",
   "metadata": {},
   "outputs": [],
   "source": [
    "stuff_to_be_removed = list(punctuation)\n",
    "\n",
    "def textprocessing(text):\n",
    "    text = str(text)\n",
    "    text = text.lower()                                                          # converting all uppercase letters to lowercase\n",
    "    text = re.sub(r\"https\\S+|www\\S+|https\\S+\",\" \",text,flags=re.MULTILINE)       # removing all links from dataset\n",
    "    text=re.sub(\"(\\\\d|\\\\W)+\",\" \",text)       \n",
    "    text = re.sub(r'\\@\\w+|\\#',\" \",text)                                          # removing # and @ symbols from dataset\n",
    "    text = re.sub(r'[^\\w\\s\\`]',\" \",text)                                         # removing other symbols like ^ except '\n",
    "    text_tokens = word_tokenize(text) \n",
    "    lem = SnowballStemmer(\"english\")\n",
    "    text = [lem.stem(word) for word in text_tokens if not word in stuff_to_be_removed] \n",
    "    text1 = \" \".join(text)\n",
    "    \n",
    "    return text1 "
   ]
  },
  {
   "cell_type": "code",
   "execution_count": 22,
   "id": "7213016e",
   "metadata": {},
   "outputs": [
    {
     "data": {
      "text/plain": [
       "0                        i d have respond if i were go\n",
       "1           sooo sad i will miss you here in san diego\n",
       "2                                  my boss is bulli me\n",
       "3                          what interview leav me alon\n",
       "4    son of whi couldn t they put them on the relea...\n",
       "Name: text, dtype: object"
      ]
     },
     "execution_count": 22,
     "metadata": {},
     "output_type": "execute_result"
    }
   ],
   "source": [
    "data_cleaned = pd.DataFrame()\n",
    "train_df['text'] = train_df['text'].apply(textprocessing)\n",
    "train_df['text'].head()\n",
    "\n"
   ]
  },
  {
   "cell_type": "markdown",
   "id": "fe231505",
   "metadata": {},
   "source": [
    "### Model Selection "
   ]
  },
  {
   "cell_type": "markdown",
   "id": "e1916c25",
   "metadata": {},
   "source": [
    "- Reading training and testing datasets from CSV files and handling missing values by dropping rows where the 'text' and 'sentiment' columns are NaN.\n",
    "- Extracting features (text data) and labels (sentiment) from the datasets to prepare them for model training and evaluation.\n",
    "- Utilizing TF-IDF vectorization to convert the text data into numerical features, transforming both the training and testing datasets to TF-IDF representations for further analysis and model training."
   ]
  },
  {
   "cell_type": "code",
   "execution_count": 2,
   "id": "0fb43420",
   "metadata": {},
   "outputs": [],
   "source": [
    "from sklearn.naive_bayes import MultinomialNB"
   ]
  },
  {
   "cell_type": "code",
   "execution_count": 3,
   "id": "8740e265",
   "metadata": {},
   "outputs": [],
   "source": [
    "import pandas as pd\n",
    "from sklearn.feature_extraction.text import TfidfVectorizer\n",
    "from sklearn.naive_bayes import MultinomialNB\n",
    "from sklearn.svm import SVC\n",
    "from sklearn.metrics import accuracy_score, classification_report\n",
    "from sklearn.model_selection import train_test_split\n",
    "from sklearn.decomposition import TruncatedSVD\n",
    "from sklearn.pipeline import make_pipeline\n",
    "from sklearn.model_selection import GridSearchCV"
   ]
  },
  {
   "cell_type": "code",
   "execution_count": 4,
   "id": "25026777",
   "metadata": {},
   "outputs": [],
   "source": [
    "# Read the training and testing datasets\n",
    "train_data = pd.read_csv('train.csv', encoding='ISO-8859-1')\n",
    "test_data = pd.read_csv('test.csv', encoding='ISO-8859-1')\n",
    "\n",
    "# Handle missing values if any\n",
    "train_data.dropna(subset=['text', 'sentiment'], inplace=True)\n",
    "test_data.dropna(subset=['text', 'sentiment'], inplace=True)\n",
    "\n",
    "# Extract features and labels from the datasets\n",
    "X_train, y_train = train_data['text'], train_data['sentiment']\n",
    "X_test, y_test = test_data['text'], test_data['sentiment']\n",
    "\n",
    "# Vectorize the text data using TF-IDF\n",
    "tfidf_vectorizer = TfidfVectorizer()\n",
    "X_train_tfidf = tfidf_vectorizer.fit_transform(X_train)\n",
    "X_test_tfidf = tfidf_vectorizer.transform(X_test)\n"
   ]
  },
  {
   "cell_type": "markdown",
   "id": "b9d72234",
   "metadata": {},
   "source": [
    "# Naive Bayes model And Support Vector Machine model\n",
    "\n",
    "#####  Naive Bayes Model:\n",
    "- trained a Multinomial Naive Bayes classifier (nb_classifier) on TF-IDF transformed training data (X_train_tfidf) and corresponding labels (y_train).\n",
    "- defined and apply an evaluation function (evaluate_model) to compute accuracy and generate a classification report for the Naive Bayes model on the TF-IDF transformed testing data (X_test_tfidf) and corresponding labels (y_test).\n",
    "\n"
   ]
  },
  {
   "cell_type": "code",
   "execution_count": 5,
   "id": "e9c60d99",
   "metadata": {},
   "outputs": [
    {
     "name": "stdout",
     "output_type": "stream",
     "text": [
      "Naive Bayes Model Accuracy: 0.6247877758913413\n",
      "Naive Bayes Model Classification Report:\n",
      "              precision    recall  f1-score   support\n",
      "\n",
      "    negative       0.78      0.37      0.50      1001\n",
      "     neutral       0.53      0.87      0.66      1430\n",
      "    positive       0.82      0.54      0.65      1103\n",
      "\n",
      "    accuracy                           0.62      3534\n",
      "   macro avg       0.71      0.59      0.60      3534\n",
      "weighted avg       0.69      0.62      0.61      3534\n",
      "\n"
     ]
    }
   ],
   "source": [
    "\n",
    "# Train and evaluate the Naive Bayes model\n",
    "nb_classifier = MultinomialNB()\n",
    "nb_classifier.fit(X_train_tfidf, y_train)\n",
    "y_pred_nb = nb_classifier.predict(X_test_tfidf)\n",
    "\n",
    "print(\"Naive Bayes Model Accuracy:\", accuracy_score(y_test, y_pred_nb))\n",
    "print(\"Naive Bayes Model Classification Report:\")\n",
    "print(classification_report(y_test, y_pred_nb))\n",
    "\n"
   ]
  },
  {
   "cell_type": "markdown",
   "id": "cd4d18b0",
   "metadata": {},
   "source": [
    "##### Support Vector Machine Model:\n",
    "- trained a Support Vector Machine classifier (svm_classifier) with a linear kernel on TF-IDF transformed training data (X_train_tfidf) and corresponding labels (y_train).\n",
    "- utilized the same evaluation function (evaluate_model) to calculate accuracy and produce a classification report for the SVM model on the TF-IDF transformed testing data (X_test_tfidf) and corresponding labels (y_test)."
   ]
  },
  {
   "cell_type": "code",
   "execution_count": null,
   "id": "70efc105",
   "metadata": {},
   "outputs": [],
   "source": [
    "\n",
    "# Train and evaluate the SVM model\n",
    "svm_classifier = SVC(kernel='linear')\n",
    "svm_classifier.fit(X_train_tfidf, y_train)\n",
    "y_pred_svm = svm_classifier.predict(X_test_tfidf)\n",
    "\n",
    "print(\"Support Vector Machine Model Accuracy:\", accuracy_score(y_test, y_pred_svm))\n",
    "print(\"Support Vector Machine Model Classification Report:\")\n",
    "print(classification_report(y_test, y_pred_svm))\n"
   ]
  },
  {
   "cell_type": "markdown",
   "id": "318308b8",
   "metadata": {},
   "source": [
    "### LSTM Model\n",
    "\n",
    "- Tokenize and convert text data into numerical sequences using Keras' Tokenizer.\n",
    "- Pad sequences to ensure uniform length for input to the LSTM model.\n",
    "- Convert sentiment labels to categorical format for multi-class classification.\n",
    "- Split dataset into training and testing sets.\n",
    "- Build, compile, train, and evaluate an LSTM model for sentiment analysis."
   ]
  },
  {
   "cell_type": "code",
   "execution_count": null,
   "id": "8502eed1",
   "metadata": {
    "scrolled": true
   },
   "outputs": [
    {
     "name": "stdout",
     "output_type": "stream",
     "text": [
      "WARNING:tensorflow:From C:\\ProgramData\\anaconda3\\Lib\\site-packages\\keras\\src\\backend.py:873: The name tf.get_default_graph is deprecated. Please use tf.compat.v1.get_default_graph instead.\n",
      "\n",
      "WARNING:tensorflow:From C:\\ProgramData\\anaconda3\\Lib\\site-packages\\keras\\src\\optimizers\\__init__.py:309: The name tf.train.Optimizer is deprecated. Please use tf.compat.v1.train.Optimizer instead.\n",
      "\n",
      "Epoch 1/10\n",
      "WARNING:tensorflow:From C:\\ProgramData\\anaconda3\\Lib\\site-packages\\keras\\src\\utils\\tf_utils.py:492: The name tf.ragged.RaggedTensorValue is deprecated. Please use tf.compat.v1.ragged.RaggedTensorValue instead.\n",
      "\n",
      "WARNING:tensorflow:From C:\\ProgramData\\anaconda3\\Lib\\site-packages\\keras\\src\\engine\\base_layer_utils.py:384: The name tf.executing_eagerly_outside_functions is deprecated. Please use tf.compat.v1.executing_eagerly_outside_functions instead.\n",
      "\n",
      "687/687 [==============================] - 90s 118ms/step - loss: 0.8225 - accuracy: 0.6244 - val_loss: 0.7093 - val_accuracy: 0.6934\n",
      "Epoch 2/10\n",
      "687/687 [==============================] - 76s 111ms/step - loss: 0.5792 - accuracy: 0.7649 - val_loss: 0.6754 - val_accuracy: 0.7120\n",
      "Epoch 3/10\n",
      "687/687 [==============================] - 74s 108ms/step - loss: 0.4723 - accuracy: 0.8168 - val_loss: 0.7307 - val_accuracy: 0.6981\n",
      "Epoch 4/10\n",
      "687/687 [==============================] - 74s 107ms/step - loss: 0.3994 - accuracy: 0.8479 - val_loss: 0.7742 - val_accuracy: 0.7031\n",
      "Epoch 5/10\n",
      "687/687 [==============================] - 75s 108ms/step - loss: 0.3336 - accuracy: 0.8765 - val_loss: 0.8509 - val_accuracy: 0.6991\n",
      "Epoch 6/10\n",
      "687/687 [==============================] - 75s 109ms/step - loss: 0.2772 - accuracy: 0.8989 - val_loss: 0.9765 - val_accuracy: 0.6794\n",
      "Epoch 7/10\n",
      "468/687 [===================>..........] - ETA: 22s - loss: 0.2222 - accuracy: 0.9225"
     ]
    }
   ],
   "source": [
    "# Tokenize the text data\n",
    "max_words = 10000  # Max number of words to tokenize\n",
    "tokenizer = Tokenizer(num_words=max_words)\n",
    "tokenizer.fit_on_texts(train_df['text'])\n",
    "sequences = tokenizer.texts_to_sequences(train_df['text'])\n",
    "\n",
    "# Padding sequences to ensure uniform length\n",
    "max_seq_length = 100  # Max sequence length\n",
    "X = pad_sequences(sequences, maxlen=max_seq_length)\n",
    "\n",
    "# Convert sentiment labels to categorical labels\n",
    "y = pd.get_dummies(train_df['sentiment']).values\n",
    "\n",
    "# Split the dataset into training and testing sets\n",
    "X_train, X_test, y_train, y_test = train_test_split(X, y, test_size=0.2, random_state=42)\n",
    "\n",
    "# Build the LSTM model\n",
    "embedding_dim = 50  # Dimension of word embeddings\n",
    "vocab_size = len(tokenizer.word_index) + 1  # Vocabulary size\n",
    "lstm_units = 128  # Number of LSTM units\n",
    "\n",
    "model = Sequential()\n",
    "model.add(Embedding(input_dim=vocab_size, output_dim=embedding_dim, input_length=max_seq_length))\n",
    "model.add(LSTM(units=lstm_units))\n",
    "model.add(Dense(units=y.shape[1], activation='softmax'))\n",
    "\n",
    "# Compile the model\n",
    "model.compile(loss='categorical_crossentropy', optimizer='adam', metrics=['accuracy'])\n",
    "\n",
    "# Train the model\n",
    "epochs = 10\n",
    "batch_size = 32\n",
    "model.fit(X_train, y_train, epochs=epochs, batch_size=batch_size, validation_data=(X_test, y_test))\n",
    "\n",
    "# Evaluate the model\n",
    "loss, accuracy = model.evaluate(X_test, y_test)\n",
    "print(\"Test Loss:\", loss)\n",
    "print(\"Test Accuracy:\", accuracy)\n"
   ]
  },
  {
   "cell_type": "markdown",
   "id": "a06cc899",
   "metadata": {},
   "source": [
    "### Hyperparameter Tuning"
   ]
  },
  {
   "cell_type": "code",
   "execution_count": 8,
   "id": "8f7915ad",
   "metadata": {},
   "outputs": [],
   "source": [
    "from sklearn.model_selection import GridSearchCV\n"
   ]
  },
  {
   "cell_type": "markdown",
   "id": "48516fcb",
   "metadata": {},
   "source": [
    "- Defined hyperparameters grid for Naive Bayes: Specify a grid of alpha values for Laplace smoothing parameter.\n",
    "\n",
    "- Initialize GridSearchCV for Naive Bayes: Create a GridSearchCV object for Multinomial Naive Bayes classifier using the defined parameter grid, 5-fold cross-validation, and accuracy as the scoring metric.\n",
    "\n",
    "- Perform grid search on Naive Bayes: Execute the grid search to find the best combination of hyperparameters that maximizes accuracy on the training data. Then print out the best hyperparameters and corresponding accuracy achieved by the Naive Bayes model."
   ]
  },
  {
   "cell_type": "code",
   "execution_count": 11,
   "id": "8146e9c6",
   "metadata": {},
   "outputs": [
    {
     "name": "stdout",
     "output_type": "stream",
     "text": [
      "Best Hyperparameters for Naive Bayes: {'alpha': 0.5}\n",
      "Best Accuracy for Naive Bayes: 0.6236171761280931\n"
     ]
    }
   ],
   "source": [
    "\n",
    "# Define hyperparameters grid for Naive Bayes\n",
    "nb_param_grid = {'alpha': [0.1, 0.5, 1.0, 2.0]}\n",
    "\n",
    "# Initialize GridSearchCV for Naive Bayes\n",
    "nb_grid_search = GridSearchCV(MultinomialNB(), nb_param_grid, cv=5, scoring='accuracy')\n",
    "\n",
    "# Perform grid search on Naive Bayes\n",
    "nb_grid_search.fit(X_train_tfidf, y_train)\n",
    "\n",
    "# Print best hyperparameters for Naive Bayes\n",
    "print(\"Best Hyperparameters for Naive Bayes:\", nb_grid_search.best_params_)\n",
    "print(\"Best Accuracy for Naive Bayes:\", nb_grid_search.best_score_)\n",
    "\n"
   ]
  },
  {
   "cell_type": "markdown",
   "id": "76cbea3b",
   "metadata": {},
   "source": [
    "- Define hyperparameters grid for SVM: Specify a grid of C (regularization parameter), gamma (kernel coefficient), and kernel type (linear or radial basis function) for Support Vector Machine.\n",
    "\n",
    "- Initialize GridSearchCV for SVM: Create a GridSearchCV object for Support Vector Machine classifier using the defined parameter grid, 5-fold cross-validation, and accuracy as the scoring metric.\n",
    "\n",
    "- Perform grid search on SVM: Execute the grid search to find the best combination of hyperparameters that maximizes accuracy on the training data. Then print out the best hyperparameters and corresponding accuracy achieved by the SVM model."
   ]
  },
  {
   "cell_type": "code",
   "execution_count": null,
   "id": "76618543",
   "metadata": {},
   "outputs": [],
   "source": [
    "# Define hyperparameters grid for SVM\n",
    "svm_param_grid = {'C': [0.1, 1, 10, 100], 'gamma': [0.001, 0.01, 0.1, 1], 'kernel': ['linear', 'rbf']}\n",
    "\n",
    "# Initialize GridSearchCV for SVM\n",
    "svm_grid_search = GridSearchCV(SVC(), svm_param_grid, cv=5, scoring='accuracy')\n",
    "\n",
    "# Perform grid search on SVM\n",
    "svm_grid_search.fit(X_train_tfidf, y_train)\n",
    "\n",
    "# Print best hyperparameters for SVM\n",
    "print(\"\\nBest Hyperparameters for SVM:\", svm_grid_search.best_params_)\n",
    "print(\"Best Accuracy for SVM:\", svm_grid_search.best_score_)\n"
   ]
  },
  {
   "cell_type": "markdown",
   "id": "28ed2a4a",
   "metadata": {},
   "source": [
    "### cross validation"
   ]
  },
  {
   "cell_type": "code",
   "execution_count": 12,
   "id": "98d39337",
   "metadata": {},
   "outputs": [],
   "source": [
    "from sklearn.model_selection import cross_val_score"
   ]
  },
  {
   "cell_type": "code",
   "execution_count": 13,
   "id": "eb0d35a5",
   "metadata": {
    "scrolled": true
   },
   "outputs": [
    {
     "name": "stdout",
     "output_type": "stream",
     "text": [
      "Cross-Validation Scores for Naive Bayes: [0.61990539 0.62154294 0.62700146 0.62445415 0.62518195]\n",
      "Mean Cross-Validation Accuracy for Naive Bayes: 0.6236171761280931\n"
     ]
    }
   ],
   "source": [
    "# Initialize Naive Bayes model with best hyperparameters\n",
    "best_nb_model = MultinomialNB(alpha=nb_grid_search.best_params_['alpha'])\n",
    "\n",
    "# Perform k-fold cross-validation for Naive Bayes\n",
    "nb_cv_scores = cross_val_score(best_nb_model, X_train_tfidf, y_train, cv=5, scoring='accuracy')\n",
    "\n",
    "# Print cross-validation scores for Naive Bayes\n",
    "print(\"Cross-Validation Scores for Naive Bayes:\", nb_cv_scores)\n",
    "print(\"Mean Cross-Validation Accuracy for Naive Bayes:\", nb_cv_scores.mean())\n",
    "\n",
    "\n"
   ]
  },
  {
   "cell_type": "code",
   "execution_count": null,
   "id": "c553a50c",
   "metadata": {},
   "outputs": [],
   "source": [
    "# Initialize SVM model with best hyperparameters\n",
    "best_svm_model = SVC(C=svm_grid_search.best_params_['C'], gamma=svm_grid_search.best_params_['gamma'], kernel=svm_grid_search.best_params_['kernel'])\n",
    "\n",
    "# Perform k-fold cross-validation for SVM\n",
    "svm_cv_scores = cross_val_score(best_svm_model, X_train_tfidf, y_train, cv=5, scoring='accuracy')\n",
    "\n",
    "# Print cross-validation scores for SVM\n",
    "print(\"\\nCross-Validation Scores for SVM:\", svm_cv_scores)\n",
    "print(\"Mean Cross-Validation Accuracy for SVM:\", svm_cv_scores.mean())"
   ]
  },
  {
   "cell_type": "markdown",
   "id": "4c991987",
   "metadata": {},
   "source": [
    "### Model Interpretability\n",
    "- Training a decision tree classifier or random forest classifier: We're preparing to visualize the feature importances of a trained random forest classifier.\n",
    "\n",
    "- Initializing and training the Random Forest classifier with best hyperparameters: Using scikit-learn's RandomForestClassifier, we create an instance with specified hyperparameters (in this case, 100 estimators and a maximum depth of 10) and train it on the TF-IDF transformed training data (X_train_tfidf) and corresponding labels (y_train).\n",
    "\n",
    "- Obtaining feature importances: After training the random forest classifier, we extract the feature importances, which indicate the relative importance of each feature in making predictions.\n",
    "\n",
    "- Sorting feature importances: We sort the feature importances in descending order to identify the most important features.\n",
    "\n",
    "- Plotting the top N most important features: Finally, we visualize the top N most important features using a bar plot, where each bar represents a feature, its importance is represented by the height of the bar, and the feature names are displayed on the x-axis. We set N to 20 in this example."
   ]
  },
  {
   "cell_type": "code",
   "execution_count": 5,
   "id": "43811653",
   "metadata": {},
   "outputs": [
    {
     "data": {
      "image/png": "[encoded data removed]",
      "text/plain": [
       "<Figure size 1000x600 with 1 Axes>"
      ]
     },
     "metadata": {},
     "output_type": "display_data"
    }
   ],
   "source": [
    "import matplotlib.pyplot as plt\n",
    "\n",
    "# Train a decision tree classifier or random forest classifier\n",
    "# Use the best hyperparameters obtained from hyperparameter tuning\n",
    "\n",
    "# Example:\n",
    "from sklearn.ensemble import RandomForestClassifier\n",
    "\n",
    "# Initialize and train Random Forest classifier with best hyperparameters\n",
    "best_rf_model = RandomForestClassifier(n_estimators=100, max_depth=10)\n",
    "best_rf_model.fit(X_train_tfidf, y_train)\n",
    "\n",
    "# Plot feature importances\n",
    "feature_importances = best_rf_model.feature_importances_\n",
    "feature_names = tfidf_vectorizer.get_feature_names_out()\n",
    "\n",
    "# Sort feature importances in descending order\n",
    "sorted_indices = feature_importances.argsort()[::-1]\n",
    "sorted_feature_importances = feature_importances[sorted_indices]\n",
    "sorted_feature_names = [feature_names[i] for i in sorted_indices]\n",
    "\n",
    "# Plot the top N most important features\n",
    "N = 20\n",
    "plt.figure(figsize=(10, 6))\n",
    "plt.bar(range(N), sorted_feature_importances[:N], tick_label=sorted_feature_names[:N])\n",
    "plt.xticks(rotation=90)\n",
    "plt.xlabel('Feature')\n",
    "plt.ylabel('Feature Importance')\n",
    "plt.title('Top {} Feature Importances'.format(N))\n",
    "plt.show()\n"
   ]
  },
  {
   "cell_type": "markdown",
   "id": "f208f3f3",
   "metadata": {},
   "source": [
    "- Initialize LIME explainer: Create a LimeTabularExplainer object to explain predictions using LIME (Local Interpretable Model-agnostic Explanations). Pass the TF-IDF transformed training data as the data to explain, along with feature names and class names.\n",
    "\n",
    "- Choose a random instance to explain: Select a random instance from the test dataset, retrieve its text and label for explanation.\n",
    "\n",
    "- Explain the instance prediction using LIME: Generate an explanation for the selected instance's prediction by passing the instance's TF-IDF representation, the predict_proba function of the trained Random Forest model, specifying the number of features to include in the explanation, and choosing the top label to explain."
   ]
  },
  {
   "cell_type": "code",
   "execution_count": 8,
   "id": "230379dd",
   "metadata": {},
   "outputs": [
    {
     "name": "stdout",
     "output_type": "stream",
     "text": [
      "Collecting lime\n",
      "  Downloading lime-0.2.0.1.tar.gz (275 kB)\n",
      "     ---------------------------------------- 0.0/275.7 kB ? eta -:--:--\n",
      "     ---------- ---------------------------- 71.7/275.7 kB 1.3 MB/s eta 0:00:01\n",
      "     ---------------------------- --------- 204.8/275.7 kB 2.1 MB/s eta 0:00:01\n",
      "     -------------------------------------- 275.7/275.7 kB 2.4 MB/s eta 0:00:00\n",
      "  Preparing metadata (setup.py): started\n",
      "  Preparing metadata (setup.py): finished with status 'done'\n",
      "Requirement already satisfied: matplotlib in c:\\programdata\\anaconda3\\lib\\site-packages (from lime) (3.7.2)\n",
      "Requirement already satisfied: numpy in c:\\programdata\\anaconda3\\lib\\site-packages (from lime) (1.24.3)\n",
      "Requirement already satisfied: scipy in c:\\programdata\\anaconda3\\lib\\site-packages (from lime) (1.11.1)\n",
      "Requirement already satisfied: tqdm in c:\\programdata\\anaconda3\\lib\\site-packages (from lime) (4.65.0)\n",
      "Requirement already satisfied: scikit-learn>=0.18 in c:\\programdata\\anaconda3\\lib\\site-packages (from lime) (1.3.0)\n",
      "Requirement already satisfied: scikit-image>=0.12 in c:\\programdata\\anaconda3\\lib\\site-packages (from lime) (0.20.0)\n",
      "Requirement already satisfied: networkx>=2.8 in c:\\programdata\\anaconda3\\lib\\site-packages (from scikit-image>=0.12->lime) (3.1)\n",
      "Requirement already satisfied: pillow>=9.0.1 in c:\\programdata\\anaconda3\\lib\\site-packages (from scikit-image>=0.12->lime) (9.4.0)\n",
      "Requirement already satisfied: imageio>=2.4.1 in c:\\programdata\\anaconda3\\lib\\site-packages (from scikit-image>=0.12->lime) (2.26.0)\n",
      "Requirement already satisfied: tifffile>=2019.7.26 in c:\\programdata\\anaconda3\\lib\\site-packages (from scikit-image>=0.12->lime) (2023.4.12)\n",
      "Requirement already satisfied: PyWavelets>=1.1.1 in c:\\programdata\\anaconda3\\lib\\site-packages (from scikit-image>=0.12->lime) (1.4.1)\n",
      "Requirement already satisfied: packaging>=20.0 in c:\\programdata\\anaconda3\\lib\\site-packages (from scikit-image>=0.12->lime) (23.1)\n",
      "Requirement already satisfied: lazy_loader>=0.1 in c:\\programdata\\anaconda3\\lib\\site-packages (from scikit-image>=0.12->lime) (0.2)\n",
      "Requirement already satisfied: joblib>=1.1.1 in c:\\programdata\\anaconda3\\lib\\site-packages (from scikit-learn>=0.18->lime) (1.2.0)\n",
      "Requirement already satisfied: threadpoolctl>=2.0.0 in c:\\programdata\\anaconda3\\lib\\site-packages (from scikit-learn>=0.18->lime) (2.2.0)\n",
      "Requirement already satisfied: contourpy>=1.0.1 in c:\\programdata\\anaconda3\\lib\\site-packages (from matplotlib->lime) (1.0.5)\n",
      "Requirement already satisfied: cycler>=0.10 in c:\\programdata\\anaconda3\\lib\\site-packages (from matplotlib->lime) (0.11.0)\n",
      "Requirement already satisfied: fonttools>=4.22.0 in c:\\programdata\\anaconda3\\lib\\site-packages (from matplotlib->lime) (4.25.0)\n",
      "Requirement already satisfied: kiwisolver>=1.0.1 in c:\\programdata\\anaconda3\\lib\\site-packages (from matplotlib->lime) (1.4.4)\n",
      "Requirement already satisfied: pyparsing<3.1,>=2.3.1 in c:\\programdata\\anaconda3\\lib\\site-packages (from matplotlib->lime) (3.0.9)\n",
      "Requirement already satisfied: python-dateutil>=2.7 in c:\\programdata\\anaconda3\\lib\\site-packages (from matplotlib->lime) (2.8.2)\n",
      "Requirement already satisfied: colorama in c:\\programdata\\anaconda3\\lib\\site-packages (from tqdm->lime) (0.4.6)\n",
      "Requirement already satisfied: six>=1.5 in c:\\programdata\\anaconda3\\lib\\site-packages (from python-dateutil>=2.7->matplotlib->lime) (1.16.0)\n",
      "Building wheels for collected packages: lime\n",
      "  Building wheel for lime (setup.py): started\n",
      "  Building wheel for lime (setup.py): finished with status 'done'\n",
      "  Created wheel for lime: filename=lime-0.2.0.1-py3-none-any.whl size=283846 sha256=faed6dd929870cbcd7efe0e4a4cc656a6ef8b639bc908aad463a7b4765013402\n",
      "  Stored in directory: c:\\users\\dell\\appdata\\local\\pip\\cache\\wheels\\85\\fa\\a3\\9c2d44c9f3cd77cf4e533b58900b2bf4487f2a17e8ec212a3d\n",
      "Successfully built lime\n",
      "Installing collected packages: lime\n",
      "Successfully installed lime-0.2.0.1\n",
      "Note: you may need to restart the kernel to use updated packages.\n"
     ]
    }
   ],
   "source": [
    "pip install lime"
   ]
  },
  {
   "cell_type": "code",
   "execution_count": null,
   "id": "2b65b806",
   "metadata": {},
   "outputs": [],
   "source": [
    "import lime\n",
    "import lime.lime_tabular\n",
    "\n",
    "# Initialize LIME explainer\n",
    "explainer = lime.lime_tabular.LimeTabularExplainer(X_train_tfidf.toarray(), feature_names=feature_names, class_names=['Negative', 'Positive'])\n",
    "\n",
    "# Choose a random instance to explain\n",
    "instance_idx = np.random.randint(0, len(X_test_tfidf))\n",
    "instance_text = X_test.iloc[instance_idx]\n",
    "instance_label = y_test.iloc[instance_idx]\n",
    "\n",
    "# Explain the instance prediction using LIME\n",
    "explanation = explainer.explain_instance(X_test_tfidf[instance_idx].toarray().reshape(-1), best_rf_model.predict_proba, num_features=10, top_labels=1)\n",
    "\n",
    "# Show explanation\n",
    "explanation.show_in_notebook()\n"
   ]
  },
  {
   "cell_type": "markdown",
   "id": "9ffa8ea2",
   "metadata": {},
   "source": [
    "### Evaluation Metrics "
   ]
  },
  {
   "cell_type": "markdown",
   "id": "d263d06b",
   "metadata": {},
   "source": [
    "- Plotting precision-recall curve: Generate and display the precision-recall curve based on true labels and predicted probabilities.\n",
    "- Plotting ROC curve: Generate and display the ROC curve based on true labels and predicted probabilities.\n",
    "- Evaluating confusion matrix: Compute and print the confusion matrix based on true labels and predicted binary outcomes.\n"
   ]
  },
  {
   "cell_type": "code",
   "execution_count": 5,
   "id": "b1018df5",
   "metadata": {},
   "outputs": [
    {
     "name": "stdout",
     "output_type": "stream",
     "text": [
      "Confusion Matrix:\n",
      "[[2 0]\n",
      " [0 3]]\n"
     ]
    },
    {
     "data": {
      "image/png": "[encoded data removed]",
      "text/plain": [
       "<Figure size 640x480 with 1 Axes>"
      ]
     },
     "metadata": {},
     "output_type": "display_data"
    }
   ],
   "source": [
    "\n",
    "# Function to plot precision-recall curve\n",
    "def plot_precision_recall_curve(y_true, y_pred_prob):\n",
    "    precision, recall, _ = precision_recall_curve(y_true, y_pred_prob)\n",
    "    plt.plot(recall, precision, marker='.')\n",
    "    plt.xlabel('Recall')\n",
    "    plt.ylabel('Precision')\n",
    "    plt.title('Precision-Recall Curve')\n",
    "    plt.show()\n",
    "\n",
    "# Function to plot ROC curve\n",
    "def plot_roc_curve(y_true, y_pred_prob):\n",
    "    fpr, tpr, _ = roc_curve(y_true, y_pred_prob)\n",
    "    plt.plot(fpr, tpr, marker='.')\n",
    "    plt.xlabel('False Positive Rate')\n",
    "    plt.ylabel('True Positive Rate')\n",
    "    plt.title('ROC Curve')\n",
    "    plt.show()\n",
    "\n",
    "# Evaluate confusion matrix\n",
    "def evaluate_confusion_matrix(y_true, y_pred):\n",
    "    cm = confusion_matrix(y_true, y_pred)\n",
    "    print(\"Confusion Matrix:\")\n",
    "    print(cm)\n",
    "\n",
    "# Evaluate precision-recall curve\n",
    "def evaluate_precision_recall_curve(y_true, y_pred_prob):\n",
    "    plot_precision_recall_curve(y_true, y_pred_prob)\n",
    "\n",
    "\n",
    "\n",
    "# Replace these with your actual predictions and scores\n",
    "y_true = [0, 1, 0, 1, 1]\n",
    "y_pred_prob = [0.1, 0.8, 0.3, 0.9, 0.6]  # Predicted probabilities\n",
    "\n",
    "# Calculate binary predictions from probabilities\n",
    "y_pred = [1 if prob >= 0.5 else 0 for prob in y_pred_prob]\n",
    "\n",
    "# Evaluate confusion matrix\n",
    "evaluate_confusion_matrix(y_true, y_pred)\n",
    "\n",
    "# Evaluate precision-recall curve\n",
    "evaluate_precision_recall_curve(y_true, y_pred_prob)\n",
    "\n"
   ]
  },
  {
   "cell_type": "code",
   "execution_count": null,
   "id": "829c124f",
   "metadata": {},
   "outputs": [],
   "source": []
  }
 ],
 "metadata": {
  "kernelspec": {
   "display_name": "Python 3 (ipykernel)",
   "language": "python",
   "name": "python3"
  },
  "language_info": {
   "codemirror_mode": {
    "name": "ipython",
    "version": 3
   },
   "file_extension": ".py",
   "mimetype": "text/x-python",
   "name": "python",
   "nbconvert_exporter": "python",
   "pygments_lexer": "ipython3",
   "version": "3.11.5"
  }
 },
 "nbformat": 4,
 "nbformat_minor": 5
}
